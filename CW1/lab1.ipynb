{
 "cells": [
  {
   "cell_type": "code",
   "execution_count": 3,
   "metadata": {},
   "outputs": [],
   "source": [
    "import numpy as np\n",
    "import statistics as stat"
   ]
  },
  {
   "attachments": {},
   "cell_type": "markdown",
   "metadata": {},
   "source": [
    "https://docs.python.org/3/library/statistics.html"
   ]
  },
  {
   "cell_type": "code",
   "execution_count": 4,
   "metadata": {},
   "outputs": [
    {
     "name": "stdout",
     "output_type": "stream",
     "text": [
      "[[8.04, 9.14, 7.46, 6.58], [6.95, 8.14, 6.77, 5.76], [7.58, 8.74, 12.74, 7.71], [8.81, 8.77, 7.11, 8.84], [8.33, 9.26, 7.81, 8.47], [9.96, 8.1, 8.84, 7.04], [7.24, 6.13, 6.08, 5.25], [4.26, 3.1, 5.39, 12.5], [10.84, 9.13, 8.15, 5.56], [4.82, 7.26, 6.42, 7.91], [5.68, 4.74, 5.73, 6.89]]\n"
     ]
    }
   ],
   "source": [
    "dane_cale = []\n",
    "with open(\"lab1_dane.txt\", 'r') as fi:\n",
    "    for line in fi:\n",
    "        if line.split():\n",
    "            line = [float(x) for x in line.split()]\n",
    "            dane_cale.append(line)\n",
    "print(dane_cale)\n"
   ]
  },
  {
   "cell_type": "code",
   "execution_count": 5,
   "metadata": {},
   "outputs": [
    {
     "name": "stdout",
     "output_type": "stream",
     "text": [
      "[8.04, 6.95, 7.58, 8.81, 8.33, 9.96, 7.24, 4.26, 10.84, 4.82, 5.68]\n"
     ]
    }
   ],
   "source": [
    "dane4 = []\n",
    "dane1 = []\n",
    "dane2 = []\n",
    "dane3 = []\n",
    "for item in dane_cale:\n",
    "    dane1.append(item[0])\n",
    "    dane2.append(item[1])\n",
    "    dane3.append(item[2])\n",
    "    dane4.append(item[3])\n",
    "print(dane1)    "
   ]
  },
  {
   "attachments": {},
   "cell_type": "markdown",
   "metadata": {},
   "source": [
    "obliczenia z wykorzystaniem numpy"
   ]
  },
  {
   "cell_type": "code",
   "execution_count": 6,
   "metadata": {},
   "outputs": [
    {
     "name": "stdout",
     "output_type": "stream",
     "text": [
      "średnia 7.5\n",
      "odch.standard populacji 1.94\n",
      "odch.standard z próby 2.03\n",
      "kwartyl1 6.32\n",
      "mediana 7.58\n",
      "kwartyl3 8.57\n",
      "min 4.26\n",
      "max 10.84\n"
     ]
    }
   ],
   "source": [
    "dane = dane1\n",
    "x_sr = round(np.mean(dane), 2)\n",
    "s = round(np.std(dane), 2) #odch standardowe populacji\n",
    "s_p = round(np.std(dane, ddof=1), 2) #odch standardowe z próby\n",
    "Q1 = round(np.percentile(dane, 25), 2)\n",
    "M = round(np.percentile(dane, 50), 2)\n",
    "Q3 = round(np.percentile(dane, 75), 2)\n",
    "min = np.min(dane)\n",
    "max = np.max(dane)\n",
    "print(\"średnia\", x_sr)\n",
    "print(\"odch.standard populacji\", s)\n",
    "print(\"odch.standard z próby\", s_p)\n",
    "print(\"kwartyl1\", Q1)\n",
    "print(\"mediana\", M)\n",
    "print(\"kwartyl3\", Q3)\n",
    "print(\"min\", min)\n",
    "print(\"max\", max)"
   ]
  },
  {
   "attachments": {},
   "cell_type": "markdown",
   "metadata": {},
   "source": [
    "Obliczenia z wykorzystaniem statistics"
   ]
  },
  {
   "cell_type": "code",
   "execution_count": 7,
   "metadata": {},
   "outputs": [
    {
     "name": "stdout",
     "output_type": "stream",
     "text": [
      "średnia 7.5\n",
      "odch.standard populacji 1.94\n",
      "odch.standard z próby 2.03\n",
      "kwartyle [5.68, 7.58, 8.81]\n",
      "mediana 7.58\n"
     ]
    }
   ],
   "source": [
    "# mean()   Arithmetic mean (“average”) of data.\n",
    "# quantiles()  Divide data into intervals with equal probability.\n",
    "# median()  Median (middle value) of data.\n",
    "# pstdev()  Population standard deviation of data.\n",
    "# stdev()  Sample standard deviation of data.\n",
    "x_sr = round(stat.mean(dane), 2)\n",
    "s_p = round(stat.stdev(dane), 2)\n",
    "s = round(stat.pstdev(dane), 2)\n",
    "kwartyle = stat.quantiles(dane, n = 4)\n",
    "Q1 = kwartyle[0]\n",
    "Q3 = kwartyle[2]\n",
    "M = stat.median(dane)\n",
    "\n",
    "print(\"średnia\", x_sr)\n",
    "print(\"odch.standard populacji\", s)\n",
    "print(\"odch.standard z próby\", s_p)\n",
    "print(\"kwartyle\", kwartyle)\n",
    "print(\"mediana\", M)"
   ]
  },
  {
   "attachments": {},
   "cell_type": "markdown",
   "metadata": {},
   "source": [
    "Wartości typowe i odstające"
   ]
  },
  {
   "cell_type": "code",
   "execution_count": 8,
   "metadata": {},
   "outputs": [
    {
     "name": "stdout",
     "output_type": "stream",
     "text": [
      "5.56 9.44 [8.04, 6.95, 7.58, 8.81, 8.33, 7.24, 5.68]\n",
      "3.62 11.38 [8.04, 6.95, 7.58, 8.81, 8.33, 9.96, 7.24, 4.26, 10.84, 4.82, 5.68]\n"
     ]
    }
   ],
   "source": [
    "t1_l = round(x_sr - s, 2)\n",
    "t1_p = round(x_sr + s, 2)\n",
    "typowe1 = [x for x in dane1 if (x > t1_l and x < t1_p)]\n",
    "print(t1_l, t1_p,  typowe1)\n",
    "\n",
    "t2_l = round(x_sr - 2*s, 2)\n",
    "t2_p = round(x_sr + 2*s, 2)\n",
    "typowe2 = [x for x in dane1 if (x > t2_l and x < t2_p)]\n",
    "print(t2_l, t2_p,  typowe2)"
   ]
  },
  {
   "cell_type": "code",
   "execution_count": 10,
   "metadata": {},
   "outputs": [
    {
     "name": "stdout",
     "output_type": "stream",
     "text": [
      "[]\n"
     ]
    }
   ],
   "source": [
    "odstajace = [x for x in dane1 if (x <= t2_l or x >= t2_p)]\n",
    "print(odstajace)"
   ]
  },
  {
   "cell_type": "code",
   "execution_count": 11,
   "metadata": {},
   "outputs": [
    {
     "name": "stdout",
     "output_type": "stream",
     "text": [
      "0.636\n"
     ]
    }
   ],
   "source": [
    "#procent typowe1\n",
    "p1 = round(len(typowe1)/len(dane1), 3)\n",
    "print(p1)"
   ]
  },
  {
   "cell_type": "code",
   "execution_count": 12,
   "metadata": {},
   "outputs": [
    {
     "name": "stdout",
     "output_type": "stream",
     "text": [
      "1.0\n"
     ]
    }
   ],
   "source": [
    "#procent typowe2\n",
    "p2 = round(len(typowe2)/len(dane1), 3)\n",
    "print(p2)"
   ]
  },
  {
   "attachments": {},
   "cell_type": "markdown",
   "metadata": {},
   "source": [
    "Analiza kwartylowa"
   ]
  },
  {
   "cell_type": "code",
   "execution_count": 13,
   "metadata": {},
   "outputs": [
    {
     "name": "stdout",
     "output_type": "stream",
     "text": [
      "Odchylenie ćwiartkowe  1.57\n",
      "zakres kwartylowe typowe 1  ( 6.01  ,  9.15 )\n",
      "Kwartylowe typowe 1  [8.04, 6.95, 7.58, 8.81, 8.33, 7.24]\n",
      "zakres kwartylowe typowe 2   ( 4.1  ,  14 )\n",
      "Kwartylowe typowe 2  [8.04, 6.95, 7.58, 8.81, 8.33, 9.96, 7.24, 4.26, 10.84, 4.82, 5.68]\n",
      "Kwartylowe wartości odstające  []\n"
     ]
    }
   ],
   "source": [
    "Q = round((Q3-Q1)/2, 2)\n",
    "Ktypowe1_l = M-Q\n",
    "Ktypowe1_r = M+Q\n",
    "Ktypowe1 = [x for x in dane if (x > Ktypowe1_l and x < Ktypowe1_r)]\n",
    "Ktypowe2_l = round(Q3 - 3*Q , 2)  \n",
    "Ktypowe2_r = round(Q3 + 3*Q)\n",
    "Ktypowe2 = [x for x in dane if (x > Ktypowe2_l and x < Ktypowe2_r)]\n",
    "Kodstajace = [x for x in dane if (x <= Ktypowe2_l or x >= Ktypowe2_r)]\n",
    "\n",
    "print(\"Odchylenie ćwiartkowe \", Q)\n",
    "print(\"zakres kwartylowe typowe 1 \", \"(\", Ktypowe1_l, \" , \", Ktypowe1_r, \")\")\n",
    "print(\"Kwartylowe typowe 1 \", Ktypowe1)\n",
    "print(\"zakres kwartylowe typowe 2  \", \"(\", Ktypowe2_l, \" , \", Ktypowe2_r, \")\")\n",
    "print(\"Kwartylowe typowe 2 \", Ktypowe2)\n",
    "print(\"Kwartylowe wartości odstające \", Kodstajace)\n",
    "\n",
    "\n"
   ]
  }
 ],
 "metadata": {
  "kernelspec": {
   "display_name": "Python 3",
   "language": "python",
   "name": "python3"
  },
  "language_info": {
   "codemirror_mode": {
    "name": "ipython",
    "version": 3
   },
   "file_extension": ".py",
   "mimetype": "text/x-python",
   "name": "python",
   "nbconvert_exporter": "python",
   "pygments_lexer": "ipython3",
   "version": "3.10.3"
  },
  "orig_nbformat": 4,
  "vscode": {
   "interpreter": {
    "hash": "52e2079a41bfbde03d7cf41fefc61ef20294e34b6945f46c61daf5ebcfe92687"
   }
  }
 },
 "nbformat": 4,
 "nbformat_minor": 2
}
